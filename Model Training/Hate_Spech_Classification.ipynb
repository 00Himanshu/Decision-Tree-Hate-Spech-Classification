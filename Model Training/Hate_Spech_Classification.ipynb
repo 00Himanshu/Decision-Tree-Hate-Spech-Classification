{
  "cells": [
    {
      "cell_type": "code",
      "execution_count": null,
      "id": "e0b726ad-b3a0-46cf-ba19-a5d936b03f56",
      "metadata": {
        "colab": {
          "base_uri": "https://localhost:8080/"
        },
        "id": "e0b726ad-b3a0-46cf-ba19-a5d936b03f56",
        "outputId": "1da384a8-92e1-4784-85c5-1a0efe6695a5"
      },
      "outputs": [
        {
          "output_type": "stream",
          "name": "stdout",
          "text": [
            "   Unnamed: 0                                               text  Race  \\\n",
            "0           0  Yes indeed. She sort of reminds me of the elde...     1   \n",
            "1           1  The trans women reading this tweet right now i...     0   \n",
            "2           2  Question: These 4 broads who criticize America...     0   \n",
            "3           3  It is about time for all illegals to go back t...     0   \n",
            "4           4  For starters bend over the one in pink and kic...     0   \n",
            "\n",
            "   Religion  Sexuality  age  \n",
            "0         1          0    0  \n",
            "1         0          0    0  \n",
            "2         0          0    0  \n",
            "3         0          0    0  \n",
            "4         0          0    0  \n"
          ]
        }
      ],
      "source": [
        "import pandas as pd\n",
        "import numpy as np\n",
        "import matplotlib.pyplot as plt\n",
        "import seaborn as sns\n",
        "\n",
        "file_id = '1AXZ75jdfYlxBKTqkGh3qKsb4dJ-VMXJN'\n",
        "\n",
        "data = pd.read_csv(f'https://drive.google.com/uc?export=download&id={file_id}')\n",
        "print(data.head())"
      ]
    },
    {
      "cell_type": "code",
      "execution_count": null,
      "id": "b3f00db7-ffe5-4723-a7ad-377dd64d3a09",
      "metadata": {
        "colab": {
          "base_uri": "https://localhost:8080/",
          "height": 423
        },
        "id": "b3f00db7-ffe5-4723-a7ad-377dd64d3a09",
        "outputId": "cb1c1eea-fb35-419a-aa61-25c02de7e64a"
      },
      "outputs": [
        {
          "output_type": "display_data",
          "data": {
            "text/plain": [
              "        Unnamed: 0                                               text  Race  \\\n",
              "0                0  Yes indeed. She sort of reminds me of the elde...     1   \n",
              "1                1  The trans women reading this tweet right now i...     0   \n",
              "2                2  Question: These 4 broads who criticize America...     0   \n",
              "3                3  It is about time for all illegals to go back t...     0   \n",
              "4                4  For starters bend over the one in pink and kic...     0   \n",
              "...            ...                                                ...   ...   \n",
              "135551      135551  عاجل سماحة #السيد_عبدالملك_بدرالدين_الحوثي  نص...     0   \n",
              "135552      135552  Millions of #Yemen-is participated in mass ral...     0   \n",
              "135553      135553  @AbeShinzo @realDonaldTrump @shinzoabe 独裁者は行きま...     0   \n",
              "135554      135554  Millions of #Yemen-is participated in mass ral...     0   \n",
              "135555      135555  لا تتشمت الرجال مسكين يعاني كس امه 😂. يقول يال...     0   \n",
              "\n",
              "        Religion  Sexuality  age  \n",
              "0              1          0    0  \n",
              "1              0          0    0  \n",
              "2              0          0    0  \n",
              "3              0          0    0  \n",
              "4              0          0    0  \n",
              "...          ...        ...  ...  \n",
              "135551         1          0    0  \n",
              "135552         1          0    0  \n",
              "135553         1          0    0  \n",
              "135554         1          0    0  \n",
              "135555         0          0    0  \n",
              "\n",
              "[135556 rows x 6 columns]"
            ],
            "text/html": [
              "\n",
              "  <div id=\"df-f38013ef-9e95-48cb-b67c-94f700d7e398\" class=\"colab-df-container\">\n",
              "    <div>\n",
              "<style scoped>\n",
              "    .dataframe tbody tr th:only-of-type {\n",
              "        vertical-align: middle;\n",
              "    }\n",
              "\n",
              "    .dataframe tbody tr th {\n",
              "        vertical-align: top;\n",
              "    }\n",
              "\n",
              "    .dataframe thead th {\n",
              "        text-align: right;\n",
              "    }\n",
              "</style>\n",
              "<table border=\"1\" class=\"dataframe\">\n",
              "  <thead>\n",
              "    <tr style=\"text-align: right;\">\n",
              "      <th></th>\n",
              "      <th>Unnamed: 0</th>\n",
              "      <th>text</th>\n",
              "      <th>Race</th>\n",
              "      <th>Religion</th>\n",
              "      <th>Sexuality</th>\n",
              "      <th>age</th>\n",
              "    </tr>\n",
              "  </thead>\n",
              "  <tbody>\n",
              "    <tr>\n",
              "      <th>0</th>\n",
              "      <td>0</td>\n",
              "      <td>Yes indeed. She sort of reminds me of the elde...</td>\n",
              "      <td>1</td>\n",
              "      <td>1</td>\n",
              "      <td>0</td>\n",
              "      <td>0</td>\n",
              "    </tr>\n",
              "    <tr>\n",
              "      <th>1</th>\n",
              "      <td>1</td>\n",
              "      <td>The trans women reading this tweet right now i...</td>\n",
              "      <td>0</td>\n",
              "      <td>0</td>\n",
              "      <td>0</td>\n",
              "      <td>0</td>\n",
              "    </tr>\n",
              "    <tr>\n",
              "      <th>2</th>\n",
              "      <td>2</td>\n",
              "      <td>Question: These 4 broads who criticize America...</td>\n",
              "      <td>0</td>\n",
              "      <td>0</td>\n",
              "      <td>0</td>\n",
              "      <td>0</td>\n",
              "    </tr>\n",
              "    <tr>\n",
              "      <th>3</th>\n",
              "      <td>3</td>\n",
              "      <td>It is about time for all illegals to go back t...</td>\n",
              "      <td>0</td>\n",
              "      <td>0</td>\n",
              "      <td>0</td>\n",
              "      <td>0</td>\n",
              "    </tr>\n",
              "    <tr>\n",
              "      <th>4</th>\n",
              "      <td>4</td>\n",
              "      <td>For starters bend over the one in pink and kic...</td>\n",
              "      <td>0</td>\n",
              "      <td>0</td>\n",
              "      <td>0</td>\n",
              "      <td>0</td>\n",
              "    </tr>\n",
              "    <tr>\n",
              "      <th>...</th>\n",
              "      <td>...</td>\n",
              "      <td>...</td>\n",
              "      <td>...</td>\n",
              "      <td>...</td>\n",
              "      <td>...</td>\n",
              "      <td>...</td>\n",
              "    </tr>\n",
              "    <tr>\n",
              "      <th>135551</th>\n",
              "      <td>135551</td>\n",
              "      <td>عاجل سماحة #السيد_عبدالملك_بدرالدين_الحوثي  نص...</td>\n",
              "      <td>0</td>\n",
              "      <td>1</td>\n",
              "      <td>0</td>\n",
              "      <td>0</td>\n",
              "    </tr>\n",
              "    <tr>\n",
              "      <th>135552</th>\n",
              "      <td>135552</td>\n",
              "      <td>Millions of #Yemen-is participated in mass ral...</td>\n",
              "      <td>0</td>\n",
              "      <td>1</td>\n",
              "      <td>0</td>\n",
              "      <td>0</td>\n",
              "    </tr>\n",
              "    <tr>\n",
              "      <th>135553</th>\n",
              "      <td>135553</td>\n",
              "      <td>@AbeShinzo @realDonaldTrump @shinzoabe 独裁者は行きま...</td>\n",
              "      <td>0</td>\n",
              "      <td>1</td>\n",
              "      <td>0</td>\n",
              "      <td>0</td>\n",
              "    </tr>\n",
              "    <tr>\n",
              "      <th>135554</th>\n",
              "      <td>135554</td>\n",
              "      <td>Millions of #Yemen-is participated in mass ral...</td>\n",
              "      <td>0</td>\n",
              "      <td>1</td>\n",
              "      <td>0</td>\n",
              "      <td>0</td>\n",
              "    </tr>\n",
              "    <tr>\n",
              "      <th>135555</th>\n",
              "      <td>135555</td>\n",
              "      <td>لا تتشمت الرجال مسكين يعاني كس امه 😂. يقول يال...</td>\n",
              "      <td>0</td>\n",
              "      <td>0</td>\n",
              "      <td>0</td>\n",
              "      <td>0</td>\n",
              "    </tr>\n",
              "  </tbody>\n",
              "</table>\n",
              "<p>135556 rows × 6 columns</p>\n",
              "</div>\n",
              "    <div class=\"colab-df-buttons\">\n",
              "\n",
              "  <div class=\"colab-df-container\">\n",
              "    <button class=\"colab-df-convert\" onclick=\"convertToInteractive('df-f38013ef-9e95-48cb-b67c-94f700d7e398')\"\n",
              "            title=\"Convert this dataframe to an interactive table.\"\n",
              "            style=\"display:none;\">\n",
              "\n",
              "  <svg xmlns=\"http://www.w3.org/2000/svg\" height=\"24px\" viewBox=\"0 -960 960 960\">\n",
              "    <path d=\"M120-120v-720h720v720H120Zm60-500h600v-160H180v160Zm220 220h160v-160H400v160Zm0 220h160v-160H400v160ZM180-400h160v-160H180v160Zm440 0h160v-160H620v160ZM180-180h160v-160H180v160Zm440 0h160v-160H620v160Z\"/>\n",
              "  </svg>\n",
              "    </button>\n",
              "\n",
              "  <style>\n",
              "    .colab-df-container {\n",
              "      display:flex;\n",
              "      gap: 12px;\n",
              "    }\n",
              "\n",
              "    .colab-df-convert {\n",
              "      background-color: #E8F0FE;\n",
              "      border: none;\n",
              "      border-radius: 50%;\n",
              "      cursor: pointer;\n",
              "      display: none;\n",
              "      fill: #1967D2;\n",
              "      height: 32px;\n",
              "      padding: 0 0 0 0;\n",
              "      width: 32px;\n",
              "    }\n",
              "\n",
              "    .colab-df-convert:hover {\n",
              "      background-color: #E2EBFA;\n",
              "      box-shadow: 0px 1px 2px rgba(60, 64, 67, 0.3), 0px 1px 3px 1px rgba(60, 64, 67, 0.15);\n",
              "      fill: #174EA6;\n",
              "    }\n",
              "\n",
              "    .colab-df-buttons div {\n",
              "      margin-bottom: 4px;\n",
              "    }\n",
              "\n",
              "    [theme=dark] .colab-df-convert {\n",
              "      background-color: #3B4455;\n",
              "      fill: #D2E3FC;\n",
              "    }\n",
              "\n",
              "    [theme=dark] .colab-df-convert:hover {\n",
              "      background-color: #434B5C;\n",
              "      box-shadow: 0px 1px 3px 1px rgba(0, 0, 0, 0.15);\n",
              "      filter: drop-shadow(0px 1px 2px rgba(0, 0, 0, 0.3));\n",
              "      fill: #FFFFFF;\n",
              "    }\n",
              "  </style>\n",
              "\n",
              "    <script>\n",
              "      const buttonEl =\n",
              "        document.querySelector('#df-f38013ef-9e95-48cb-b67c-94f700d7e398 button.colab-df-convert');\n",
              "      buttonEl.style.display =\n",
              "        google.colab.kernel.accessAllowed ? 'block' : 'none';\n",
              "\n",
              "      async function convertToInteractive(key) {\n",
              "        const element = document.querySelector('#df-f38013ef-9e95-48cb-b67c-94f700d7e398');\n",
              "        const dataTable =\n",
              "          await google.colab.kernel.invokeFunction('convertToInteractive',\n",
              "                                                    [key], {});\n",
              "        if (!dataTable) return;\n",
              "\n",
              "        const docLinkHtml = 'Like what you see? Visit the ' +\n",
              "          '<a target=\"_blank\" href=https://colab.research.google.com/notebooks/data_table.ipynb>data table notebook</a>'\n",
              "          + ' to learn more about interactive tables.';\n",
              "        element.innerHTML = '';\n",
              "        dataTable['output_type'] = 'display_data';\n",
              "        await google.colab.output.renderOutput(dataTable, element);\n",
              "        const docLink = document.createElement('div');\n",
              "        docLink.innerHTML = docLinkHtml;\n",
              "        element.appendChild(docLink);\n",
              "      }\n",
              "    </script>\n",
              "  </div>\n",
              "\n",
              "\n",
              "<div id=\"df-70545f4a-507f-43da-ad2b-39d2163fef57\">\n",
              "  <button class=\"colab-df-quickchart\" onclick=\"quickchart('df-70545f4a-507f-43da-ad2b-39d2163fef57')\"\n",
              "            title=\"Suggest charts\"\n",
              "            style=\"display:none;\">\n",
              "\n",
              "<svg xmlns=\"http://www.w3.org/2000/svg\" height=\"24px\"viewBox=\"0 0 24 24\"\n",
              "     width=\"24px\">\n",
              "    <g>\n",
              "        <path d=\"M19 3H5c-1.1 0-2 .9-2 2v14c0 1.1.9 2 2 2h14c1.1 0 2-.9 2-2V5c0-1.1-.9-2-2-2zM9 17H7v-7h2v7zm4 0h-2V7h2v10zm4 0h-2v-4h2v4z\"/>\n",
              "    </g>\n",
              "</svg>\n",
              "  </button>\n",
              "\n",
              "<style>\n",
              "  .colab-df-quickchart {\n",
              "      --bg-color: #E8F0FE;\n",
              "      --fill-color: #1967D2;\n",
              "      --hover-bg-color: #E2EBFA;\n",
              "      --hover-fill-color: #174EA6;\n",
              "      --disabled-fill-color: #AAA;\n",
              "      --disabled-bg-color: #DDD;\n",
              "  }\n",
              "\n",
              "  [theme=dark] .colab-df-quickchart {\n",
              "      --bg-color: #3B4455;\n",
              "      --fill-color: #D2E3FC;\n",
              "      --hover-bg-color: #434B5C;\n",
              "      --hover-fill-color: #FFFFFF;\n",
              "      --disabled-bg-color: #3B4455;\n",
              "      --disabled-fill-color: #666;\n",
              "  }\n",
              "\n",
              "  .colab-df-quickchart {\n",
              "    background-color: var(--bg-color);\n",
              "    border: none;\n",
              "    border-radius: 50%;\n",
              "    cursor: pointer;\n",
              "    display: none;\n",
              "    fill: var(--fill-color);\n",
              "    height: 32px;\n",
              "    padding: 0;\n",
              "    width: 32px;\n",
              "  }\n",
              "\n",
              "  .colab-df-quickchart:hover {\n",
              "    background-color: var(--hover-bg-color);\n",
              "    box-shadow: 0 1px 2px rgba(60, 64, 67, 0.3), 0 1px 3px 1px rgba(60, 64, 67, 0.15);\n",
              "    fill: var(--button-hover-fill-color);\n",
              "  }\n",
              "\n",
              "  .colab-df-quickchart-complete:disabled,\n",
              "  .colab-df-quickchart-complete:disabled:hover {\n",
              "    background-color: var(--disabled-bg-color);\n",
              "    fill: var(--disabled-fill-color);\n",
              "    box-shadow: none;\n",
              "  }\n",
              "\n",
              "  .colab-df-spinner {\n",
              "    border: 2px solid var(--fill-color);\n",
              "    border-color: transparent;\n",
              "    border-bottom-color: var(--fill-color);\n",
              "    animation:\n",
              "      spin 1s steps(1) infinite;\n",
              "  }\n",
              "\n",
              "  @keyframes spin {\n",
              "    0% {\n",
              "      border-color: transparent;\n",
              "      border-bottom-color: var(--fill-color);\n",
              "      border-left-color: var(--fill-color);\n",
              "    }\n",
              "    20% {\n",
              "      border-color: transparent;\n",
              "      border-left-color: var(--fill-color);\n",
              "      border-top-color: var(--fill-color);\n",
              "    }\n",
              "    30% {\n",
              "      border-color: transparent;\n",
              "      border-left-color: var(--fill-color);\n",
              "      border-top-color: var(--fill-color);\n",
              "      border-right-color: var(--fill-color);\n",
              "    }\n",
              "    40% {\n",
              "      border-color: transparent;\n",
              "      border-right-color: var(--fill-color);\n",
              "      border-top-color: var(--fill-color);\n",
              "    }\n",
              "    60% {\n",
              "      border-color: transparent;\n",
              "      border-right-color: var(--fill-color);\n",
              "    }\n",
              "    80% {\n",
              "      border-color: transparent;\n",
              "      border-right-color: var(--fill-color);\n",
              "      border-bottom-color: var(--fill-color);\n",
              "    }\n",
              "    90% {\n",
              "      border-color: transparent;\n",
              "      border-bottom-color: var(--fill-color);\n",
              "    }\n",
              "  }\n",
              "</style>\n",
              "\n",
              "  <script>\n",
              "    async function quickchart(key) {\n",
              "      const quickchartButtonEl =\n",
              "        document.querySelector('#' + key + ' button');\n",
              "      quickchartButtonEl.disabled = true;  // To prevent multiple clicks.\n",
              "      quickchartButtonEl.classList.add('colab-df-spinner');\n",
              "      try {\n",
              "        const charts = await google.colab.kernel.invokeFunction(\n",
              "            'suggestCharts', [key], {});\n",
              "      } catch (error) {\n",
              "        console.error('Error during call to suggestCharts:', error);\n",
              "      }\n",
              "      quickchartButtonEl.classList.remove('colab-df-spinner');\n",
              "      quickchartButtonEl.classList.add('colab-df-quickchart-complete');\n",
              "    }\n",
              "    (() => {\n",
              "      let quickchartButtonEl =\n",
              "        document.querySelector('#df-70545f4a-507f-43da-ad2b-39d2163fef57 button');\n",
              "      quickchartButtonEl.style.display =\n",
              "        google.colab.kernel.accessAllowed ? 'block' : 'none';\n",
              "    })();\n",
              "  </script>\n",
              "</div>\n",
              "\n",
              "  <div id=\"id_a228b3fb-c9c2-4d6e-ba4d-3ae736868319\">\n",
              "    <style>\n",
              "      .colab-df-generate {\n",
              "        background-color: #E8F0FE;\n",
              "        border: none;\n",
              "        border-radius: 50%;\n",
              "        cursor: pointer;\n",
              "        display: none;\n",
              "        fill: #1967D2;\n",
              "        height: 32px;\n",
              "        padding: 0 0 0 0;\n",
              "        width: 32px;\n",
              "      }\n",
              "\n",
              "      .colab-df-generate:hover {\n",
              "        background-color: #E2EBFA;\n",
              "        box-shadow: 0px 1px 2px rgba(60, 64, 67, 0.3), 0px 1px 3px 1px rgba(60, 64, 67, 0.15);\n",
              "        fill: #174EA6;\n",
              "      }\n",
              "\n",
              "      [theme=dark] .colab-df-generate {\n",
              "        background-color: #3B4455;\n",
              "        fill: #D2E3FC;\n",
              "      }\n",
              "\n",
              "      [theme=dark] .colab-df-generate:hover {\n",
              "        background-color: #434B5C;\n",
              "        box-shadow: 0px 1px 3px 1px rgba(0, 0, 0, 0.15);\n",
              "        filter: drop-shadow(0px 1px 2px rgba(0, 0, 0, 0.3));\n",
              "        fill: #FFFFFF;\n",
              "      }\n",
              "    </style>\n",
              "    <button class=\"colab-df-generate\" onclick=\"generateWithVariable('data')\"\n",
              "            title=\"Generate code using this dataframe.\"\n",
              "            style=\"display:none;\">\n",
              "\n",
              "  <svg xmlns=\"http://www.w3.org/2000/svg\" height=\"24px\"viewBox=\"0 0 24 24\"\n",
              "       width=\"24px\">\n",
              "    <path d=\"M7,19H8.4L18.45,9,17,7.55,7,17.6ZM5,21V16.75L18.45,3.32a2,2,0,0,1,2.83,0l1.4,1.43a1.91,1.91,0,0,1,.58,1.4,1.91,1.91,0,0,1-.58,1.4L9.25,21ZM18.45,9,17,7.55Zm-12,3A5.31,5.31,0,0,0,4.9,8.1,5.31,5.31,0,0,0,1,6.5,5.31,5.31,0,0,0,4.9,4.9,5.31,5.31,0,0,0,6.5,1,5.31,5.31,0,0,0,8.1,4.9,5.31,5.31,0,0,0,12,6.5,5.46,5.46,0,0,0,6.5,12Z\"/>\n",
              "  </svg>\n",
              "    </button>\n",
              "    <script>\n",
              "      (() => {\n",
              "      const buttonEl =\n",
              "        document.querySelector('#id_a228b3fb-c9c2-4d6e-ba4d-3ae736868319 button.colab-df-generate');\n",
              "      buttonEl.style.display =\n",
              "        google.colab.kernel.accessAllowed ? 'block' : 'none';\n",
              "\n",
              "      buttonEl.onclick = () => {\n",
              "        google.colab.notebook.generateWithVariable('data');\n",
              "      }\n",
              "      })();\n",
              "    </script>\n",
              "  </div>\n",
              "\n",
              "    </div>\n",
              "  </div>\n"
            ],
            "application/vnd.google.colaboratory.intrinsic+json": {
              "type": "dataframe",
              "variable_name": "data"
            }
          },
          "metadata": {}
        }
      ],
      "source": [
        "display(data)"
      ]
    },
    {
      "cell_type": "code",
      "execution_count": null,
      "id": "521290bb-3d09-4794-a606-aa5c5148bd22",
      "metadata": {
        "colab": {
          "base_uri": "https://localhost:8080/"
        },
        "id": "521290bb-3d09-4794-a606-aa5c5148bd22",
        "outputId": "bc58379e-25e6-48c7-9a79-cc425a63c063"
      },
      "outputs": [
        {
          "output_type": "stream",
          "name": "stdout",
          "text": [
            "<class 'pandas.core.frame.DataFrame'>\n",
            "RangeIndex: 135556 entries, 0 to 135555\n",
            "Data columns (total 6 columns):\n",
            " #   Column      Non-Null Count   Dtype \n",
            "---  ------      --------------   ----- \n",
            " 0   Unnamed: 0  135556 non-null  int64 \n",
            " 1   text        135556 non-null  object\n",
            " 2   Race        135556 non-null  int64 \n",
            " 3   Religion    135556 non-null  int64 \n",
            " 4   Sexuality   135556 non-null  int64 \n",
            " 5   age         135556 non-null  int64 \n",
            "dtypes: int64(5), object(1)\n",
            "memory usage: 6.2+ MB\n",
            "None\n"
          ]
        }
      ],
      "source": [
        "print(data.info())"
      ]
    },
    {
      "cell_type": "code",
      "execution_count": null,
      "id": "aadb37e8-67ac-4fa6-b2cd-20eeaf2d4e20",
      "metadata": {
        "colab": {
          "base_uri": "https://localhost:8080/"
        },
        "id": "aadb37e8-67ac-4fa6-b2cd-20eeaf2d4e20",
        "outputId": "ca701ae2-a143-4ef9-d878-342bc7770123"
      },
      "outputs": [
        {
          "output_type": "stream",
          "name": "stdout",
          "text": [
            "Missing values per column:\n",
            "Unnamed: 0    0\n",
            "text          0\n",
            "Race          0\n",
            "Religion      0\n",
            "Sexuality     0\n",
            "age           0\n",
            "dtype: int64\n"
          ]
        }
      ],
      "source": [
        "print(\"Missing values per column:\")\n",
        "print(data.isnull().sum())"
      ]
    },
    {
      "cell_type": "code",
      "execution_count": null,
      "id": "8f79272b-7d8d-4d3b-9d6e-34ba6bb7dd31",
      "metadata": {
        "colab": {
          "base_uri": "https://localhost:8080/"
        },
        "id": "8f79272b-7d8d-4d3b-9d6e-34ba6bb7dd31",
        "outputId": "24b5ccbe-83ea-46dc-d22c-b873805c9a2f"
      },
      "outputs": [
        {
          "output_type": "stream",
          "name": "stdout",
          "text": [
            "No duplicate rows found.\n"
          ]
        }
      ],
      "source": [
        "# Check for duplicate rows\n",
        "duplicate_rows = data[data.duplicated()]\n",
        "if not duplicate_rows.empty:\n",
        "    print(\"Duplicate rows found:\")\n",
        "    print(duplicate_rows)\n",
        "else:\n",
        "    print(\"No duplicate rows found.\")"
      ]
    },
    {
      "cell_type": "code",
      "execution_count": null,
      "id": "932e24c1-2bb9-4243-a4c5-c757f4715444",
      "metadata": {
        "colab": {
          "base_uri": "https://localhost:8080/"
        },
        "id": "932e24c1-2bb9-4243-a4c5-c757f4715444",
        "outputId": "59a1ce27-ac81-40c3-f615-3598080d9de2"
      },
      "outputs": [
        {
          "output_type": "stream",
          "name": "stdout",
          "text": [
            "          Unnamed: 0           Race       Religion      Sexuality  \\\n",
            "count  135556.000000  135556.000000  135556.000000  135556.000000   \n",
            "mean    67777.500000       0.252287       0.152417       0.165297   \n",
            "std     39131.790882       0.434327       0.359426       0.371450   \n",
            "min         0.000000       0.000000       0.000000       0.000000   \n",
            "25%     33888.750000       0.000000       0.000000       0.000000   \n",
            "50%     67777.500000       0.000000       0.000000       0.000000   \n",
            "75%    101666.250000       1.000000       0.000000       0.000000   \n",
            "max    135555.000000       1.000000       1.000000       1.000000   \n",
            "\n",
            "                 age  \n",
            "count  135556.000000  \n",
            "mean        0.012807  \n",
            "std         0.112439  \n",
            "min         0.000000  \n",
            "25%         0.000000  \n",
            "50%         0.000000  \n",
            "75%         0.000000  \n",
            "max         1.000000  \n"
          ]
        }
      ],
      "source": [
        "print(data.describe())"
      ]
    },
    {
      "cell_type": "code",
      "execution_count": null,
      "id": "274ec843-7246-4227-93ce-2d5869b0db18",
      "metadata": {
        "colab": {
          "base_uri": "https://localhost:8080/",
          "height": 441
        },
        "id": "274ec843-7246-4227-93ce-2d5869b0db18",
        "outputId": "69ebc948-c8be-469b-cd72-6f8b978a4cbc"
      },
      "outputs": [
        {
          "output_type": "display_data",
          "data": {
            "text/plain": [
              "        Race  Religion  Sexuality  age\n",
              "0          1         1          0    0\n",
              "1          0         0          0    0\n",
              "2          0         0          0    0\n",
              "3          0         0          0    0\n",
              "4          0         0          0    0\n",
              "...      ...       ...        ...  ...\n",
              "135551     0         1          0    0\n",
              "135552     0         1          0    0\n",
              "135553     0         1          0    0\n",
              "135554     0         1          0    0\n",
              "135555     0         0          0    0\n",
              "\n",
              "[135556 rows x 4 columns]"
            ],
            "text/html": [
              "\n",
              "  <div id=\"df-893b2d8d-c36d-417a-a0aa-e785d70d97d5\" class=\"colab-df-container\">\n",
              "    <div>\n",
              "<style scoped>\n",
              "    .dataframe tbody tr th:only-of-type {\n",
              "        vertical-align: middle;\n",
              "    }\n",
              "\n",
              "    .dataframe tbody tr th {\n",
              "        vertical-align: top;\n",
              "    }\n",
              "\n",
              "    .dataframe thead th {\n",
              "        text-align: right;\n",
              "    }\n",
              "</style>\n",
              "<table border=\"1\" class=\"dataframe\">\n",
              "  <thead>\n",
              "    <tr style=\"text-align: right;\">\n",
              "      <th></th>\n",
              "      <th>Race</th>\n",
              "      <th>Religion</th>\n",
              "      <th>Sexuality</th>\n",
              "      <th>age</th>\n",
              "    </tr>\n",
              "  </thead>\n",
              "  <tbody>\n",
              "    <tr>\n",
              "      <th>0</th>\n",
              "      <td>1</td>\n",
              "      <td>1</td>\n",
              "      <td>0</td>\n",
              "      <td>0</td>\n",
              "    </tr>\n",
              "    <tr>\n",
              "      <th>1</th>\n",
              "      <td>0</td>\n",
              "      <td>0</td>\n",
              "      <td>0</td>\n",
              "      <td>0</td>\n",
              "    </tr>\n",
              "    <tr>\n",
              "      <th>2</th>\n",
              "      <td>0</td>\n",
              "      <td>0</td>\n",
              "      <td>0</td>\n",
              "      <td>0</td>\n",
              "    </tr>\n",
              "    <tr>\n",
              "      <th>3</th>\n",
              "      <td>0</td>\n",
              "      <td>0</td>\n",
              "      <td>0</td>\n",
              "      <td>0</td>\n",
              "    </tr>\n",
              "    <tr>\n",
              "      <th>4</th>\n",
              "      <td>0</td>\n",
              "      <td>0</td>\n",
              "      <td>0</td>\n",
              "      <td>0</td>\n",
              "    </tr>\n",
              "    <tr>\n",
              "      <th>...</th>\n",
              "      <td>...</td>\n",
              "      <td>...</td>\n",
              "      <td>...</td>\n",
              "      <td>...</td>\n",
              "    </tr>\n",
              "    <tr>\n",
              "      <th>135551</th>\n",
              "      <td>0</td>\n",
              "      <td>1</td>\n",
              "      <td>0</td>\n",
              "      <td>0</td>\n",
              "    </tr>\n",
              "    <tr>\n",
              "      <th>135552</th>\n",
              "      <td>0</td>\n",
              "      <td>1</td>\n",
              "      <td>0</td>\n",
              "      <td>0</td>\n",
              "    </tr>\n",
              "    <tr>\n",
              "      <th>135553</th>\n",
              "      <td>0</td>\n",
              "      <td>1</td>\n",
              "      <td>0</td>\n",
              "      <td>0</td>\n",
              "    </tr>\n",
              "    <tr>\n",
              "      <th>135554</th>\n",
              "      <td>0</td>\n",
              "      <td>1</td>\n",
              "      <td>0</td>\n",
              "      <td>0</td>\n",
              "    </tr>\n",
              "    <tr>\n",
              "      <th>135555</th>\n",
              "      <td>0</td>\n",
              "      <td>0</td>\n",
              "      <td>0</td>\n",
              "      <td>0</td>\n",
              "    </tr>\n",
              "  </tbody>\n",
              "</table>\n",
              "<p>135556 rows × 4 columns</p>\n",
              "</div>\n",
              "    <div class=\"colab-df-buttons\">\n",
              "\n",
              "  <div class=\"colab-df-container\">\n",
              "    <button class=\"colab-df-convert\" onclick=\"convertToInteractive('df-893b2d8d-c36d-417a-a0aa-e785d70d97d5')\"\n",
              "            title=\"Convert this dataframe to an interactive table.\"\n",
              "            style=\"display:none;\">\n",
              "\n",
              "  <svg xmlns=\"http://www.w3.org/2000/svg\" height=\"24px\" viewBox=\"0 -960 960 960\">\n",
              "    <path d=\"M120-120v-720h720v720H120Zm60-500h600v-160H180v160Zm220 220h160v-160H400v160Zm0 220h160v-160H400v160ZM180-400h160v-160H180v160Zm440 0h160v-160H620v160ZM180-180h160v-160H180v160Zm440 0h160v-160H620v160Z\"/>\n",
              "  </svg>\n",
              "    </button>\n",
              "\n",
              "  <style>\n",
              "    .colab-df-container {\n",
              "      display:flex;\n",
              "      gap: 12px;\n",
              "    }\n",
              "\n",
              "    .colab-df-convert {\n",
              "      background-color: #E8F0FE;\n",
              "      border: none;\n",
              "      border-radius: 50%;\n",
              "      cursor: pointer;\n",
              "      display: none;\n",
              "      fill: #1967D2;\n",
              "      height: 32px;\n",
              "      padding: 0 0 0 0;\n",
              "      width: 32px;\n",
              "    }\n",
              "\n",
              "    .colab-df-convert:hover {\n",
              "      background-color: #E2EBFA;\n",
              "      box-shadow: 0px 1px 2px rgba(60, 64, 67, 0.3), 0px 1px 3px 1px rgba(60, 64, 67, 0.15);\n",
              "      fill: #174EA6;\n",
              "    }\n",
              "\n",
              "    .colab-df-buttons div {\n",
              "      margin-bottom: 4px;\n",
              "    }\n",
              "\n",
              "    [theme=dark] .colab-df-convert {\n",
              "      background-color: #3B4455;\n",
              "      fill: #D2E3FC;\n",
              "    }\n",
              "\n",
              "    [theme=dark] .colab-df-convert:hover {\n",
              "      background-color: #434B5C;\n",
              "      box-shadow: 0px 1px 3px 1px rgba(0, 0, 0, 0.15);\n",
              "      filter: drop-shadow(0px 1px 2px rgba(0, 0, 0, 0.3));\n",
              "      fill: #FFFFFF;\n",
              "    }\n",
              "  </style>\n",
              "\n",
              "    <script>\n",
              "      const buttonEl =\n",
              "        document.querySelector('#df-893b2d8d-c36d-417a-a0aa-e785d70d97d5 button.colab-df-convert');\n",
              "      buttonEl.style.display =\n",
              "        google.colab.kernel.accessAllowed ? 'block' : 'none';\n",
              "\n",
              "      async function convertToInteractive(key) {\n",
              "        const element = document.querySelector('#df-893b2d8d-c36d-417a-a0aa-e785d70d97d5');\n",
              "        const dataTable =\n",
              "          await google.colab.kernel.invokeFunction('convertToInteractive',\n",
              "                                                    [key], {});\n",
              "        if (!dataTable) return;\n",
              "\n",
              "        const docLinkHtml = 'Like what you see? Visit the ' +\n",
              "          '<a target=\"_blank\" href=https://colab.research.google.com/notebooks/data_table.ipynb>data table notebook</a>'\n",
              "          + ' to learn more about interactive tables.';\n",
              "        element.innerHTML = '';\n",
              "        dataTable['output_type'] = 'display_data';\n",
              "        await google.colab.output.renderOutput(dataTable, element);\n",
              "        const docLink = document.createElement('div');\n",
              "        docLink.innerHTML = docLinkHtml;\n",
              "        element.appendChild(docLink);\n",
              "      }\n",
              "    </script>\n",
              "  </div>\n",
              "\n",
              "\n",
              "<div id=\"df-5f355d95-acca-4d0f-890e-db7eda67c753\">\n",
              "  <button class=\"colab-df-quickchart\" onclick=\"quickchart('df-5f355d95-acca-4d0f-890e-db7eda67c753')\"\n",
              "            title=\"Suggest charts\"\n",
              "            style=\"display:none;\">\n",
              "\n",
              "<svg xmlns=\"http://www.w3.org/2000/svg\" height=\"24px\"viewBox=\"0 0 24 24\"\n",
              "     width=\"24px\">\n",
              "    <g>\n",
              "        <path d=\"M19 3H5c-1.1 0-2 .9-2 2v14c0 1.1.9 2 2 2h14c1.1 0 2-.9 2-2V5c0-1.1-.9-2-2-2zM9 17H7v-7h2v7zm4 0h-2V7h2v10zm4 0h-2v-4h2v4z\"/>\n",
              "    </g>\n",
              "</svg>\n",
              "  </button>\n",
              "\n",
              "<style>\n",
              "  .colab-df-quickchart {\n",
              "      --bg-color: #E8F0FE;\n",
              "      --fill-color: #1967D2;\n",
              "      --hover-bg-color: #E2EBFA;\n",
              "      --hover-fill-color: #174EA6;\n",
              "      --disabled-fill-color: #AAA;\n",
              "      --disabled-bg-color: #DDD;\n",
              "  }\n",
              "\n",
              "  [theme=dark] .colab-df-quickchart {\n",
              "      --bg-color: #3B4455;\n",
              "      --fill-color: #D2E3FC;\n",
              "      --hover-bg-color: #434B5C;\n",
              "      --hover-fill-color: #FFFFFF;\n",
              "      --disabled-bg-color: #3B4455;\n",
              "      --disabled-fill-color: #666;\n",
              "  }\n",
              "\n",
              "  .colab-df-quickchart {\n",
              "    background-color: var(--bg-color);\n",
              "    border: none;\n",
              "    border-radius: 50%;\n",
              "    cursor: pointer;\n",
              "    display: none;\n",
              "    fill: var(--fill-color);\n",
              "    height: 32px;\n",
              "    padding: 0;\n",
              "    width: 32px;\n",
              "  }\n",
              "\n",
              "  .colab-df-quickchart:hover {\n",
              "    background-color: var(--hover-bg-color);\n",
              "    box-shadow: 0 1px 2px rgba(60, 64, 67, 0.3), 0 1px 3px 1px rgba(60, 64, 67, 0.15);\n",
              "    fill: var(--button-hover-fill-color);\n",
              "  }\n",
              "\n",
              "  .colab-df-quickchart-complete:disabled,\n",
              "  .colab-df-quickchart-complete:disabled:hover {\n",
              "    background-color: var(--disabled-bg-color);\n",
              "    fill: var(--disabled-fill-color);\n",
              "    box-shadow: none;\n",
              "  }\n",
              "\n",
              "  .colab-df-spinner {\n",
              "    border: 2px solid var(--fill-color);\n",
              "    border-color: transparent;\n",
              "    border-bottom-color: var(--fill-color);\n",
              "    animation:\n",
              "      spin 1s steps(1) infinite;\n",
              "  }\n",
              "\n",
              "  @keyframes spin {\n",
              "    0% {\n",
              "      border-color: transparent;\n",
              "      border-bottom-color: var(--fill-color);\n",
              "      border-left-color: var(--fill-color);\n",
              "    }\n",
              "    20% {\n",
              "      border-color: transparent;\n",
              "      border-left-color: var(--fill-color);\n",
              "      border-top-color: var(--fill-color);\n",
              "    }\n",
              "    30% {\n",
              "      border-color: transparent;\n",
              "      border-left-color: var(--fill-color);\n",
              "      border-top-color: var(--fill-color);\n",
              "      border-right-color: var(--fill-color);\n",
              "    }\n",
              "    40% {\n",
              "      border-color: transparent;\n",
              "      border-right-color: var(--fill-color);\n",
              "      border-top-color: var(--fill-color);\n",
              "    }\n",
              "    60% {\n",
              "      border-color: transparent;\n",
              "      border-right-color: var(--fill-color);\n",
              "    }\n",
              "    80% {\n",
              "      border-color: transparent;\n",
              "      border-right-color: var(--fill-color);\n",
              "      border-bottom-color: var(--fill-color);\n",
              "    }\n",
              "    90% {\n",
              "      border-color: transparent;\n",
              "      border-bottom-color: var(--fill-color);\n",
              "    }\n",
              "  }\n",
              "</style>\n",
              "\n",
              "  <script>\n",
              "    async function quickchart(key) {\n",
              "      const quickchartButtonEl =\n",
              "        document.querySelector('#' + key + ' button');\n",
              "      quickchartButtonEl.disabled = true;  // To prevent multiple clicks.\n",
              "      quickchartButtonEl.classList.add('colab-df-spinner');\n",
              "      try {\n",
              "        const charts = await google.colab.kernel.invokeFunction(\n",
              "            'suggestCharts', [key], {});\n",
              "      } catch (error) {\n",
              "        console.error('Error during call to suggestCharts:', error);\n",
              "      }\n",
              "      quickchartButtonEl.classList.remove('colab-df-spinner');\n",
              "      quickchartButtonEl.classList.add('colab-df-quickchart-complete');\n",
              "    }\n",
              "    (() => {\n",
              "      let quickchartButtonEl =\n",
              "        document.querySelector('#df-5f355d95-acca-4d0f-890e-db7eda67c753 button');\n",
              "      quickchartButtonEl.style.display =\n",
              "        google.colab.kernel.accessAllowed ? 'block' : 'none';\n",
              "    })();\n",
              "  </script>\n",
              "</div>\n",
              "\n",
              "    </div>\n",
              "  </div>\n"
            ],
            "application/vnd.google.colaboratory.intrinsic+json": {
              "type": "dataframe"
            }
          },
          "metadata": {}
        },
        {
          "output_type": "stream",
          "name": "stdout",
          "text": [
            "None\n"
          ]
        }
      ],
      "source": [
        "print(display(data[['Race', 'Religion','Sexuality','age']]))"
      ]
    },
    {
      "cell_type": "code",
      "execution_count": null,
      "id": "679515c9-33f9-4c59-8950-c9ca63e77e19",
      "metadata": {
        "colab": {
          "base_uri": "https://localhost:8080/"
        },
        "id": "679515c9-33f9-4c59-8950-c9ca63e77e19",
        "outputId": "38c216af-afe7-4298-e197-42151862aa56"
      },
      "outputs": [
        {
          "output_type": "stream",
          "name": "stdout",
          "text": [
            "[1 0]\n",
            "[1 0]\n",
            "[0 1]\n",
            "[0 1]\n"
          ]
        }
      ],
      "source": [
        "print(data['Race'].unique())\n",
        "print(data['Religion'].unique())\n",
        "print(data['Sexuality'].unique())\n",
        "print(data['age'].unique())"
      ]
    },
    {
      "cell_type": "code",
      "execution_count": null,
      "id": "b21981cc-8ff3-46b1-8837-12d0048d6006",
      "metadata": {
        "id": "b21981cc-8ff3-46b1-8837-12d0048d6006"
      },
      "outputs": [],
      "source": [
        "# Sum the target columns to get the distribution\n",
        "target_distribution = data[['Race', 'Religion', 'Sexuality', 'age']].sum()"
      ]
    },
    {
      "cell_type": "code",
      "execution_count": null,
      "id": "71a55ccc-7d61-4a8c-9a75-57dc0288fe02",
      "metadata": {
        "colab": {
          "base_uri": "https://localhost:8080/",
          "height": 522
        },
        "id": "71a55ccc-7d61-4a8c-9a75-57dc0288fe02",
        "outputId": "8fe1cb77-a2b5-4eb5-9b97-33f5527ff47a"
      },
      "outputs": [
        {
          "output_type": "display_data",
          "data": {
            "text/plain": [
              "<Figure size 640x480 with 1 Axes>"
            ],
            "image/png": "[encoded data removed]"
          },
          "metadata": {}
        }
      ],
      "source": [
        "# Define colors for the bars\n",
        "colors = ['blue', 'green', 'red', 'yellow']\n",
        "\n",
        "# Plot the distribution\n",
        "target_distribution.plot(kind='bar', color=colors)\n",
        "plt.title('Distribution of Hate Speech Classes')\n",
        "plt.xlabel('Class')\n",
        "plt.ylabel('Count')\n",
        "plt.show()"
      ]
    },
    {
      "cell_type": "code",
      "execution_count": null,
      "id": "57d06ba4-4d68-48e1-a445-87fadab3d757",
      "metadata": {
        "id": "57d06ba4-4d68-48e1-a445-87fadab3d757"
      },
      "outputs": [],
      "source": [
        "import warnings\n",
        "# Suppress specific warnings\n",
        "warnings.filterwarnings(\"ignore\", category=FutureWarning, module=\"seaborn\")"
      ]
    },
    {
      "cell_type": "code",
      "execution_count": null,
      "id": "022436ae-9dad-4e09-aa99-59e058c982bf",
      "metadata": {
        "colab": {
          "base_uri": "https://localhost:8080/",
          "height": 479
        },
        "id": "022436ae-9dad-4e09-aa99-59e058c982bf",
        "outputId": "8e6285db-cb25-449e-864d-57fe6cdb37f1"
      },
      "outputs": [
        {
          "output_type": "display_data",
          "data": {
            "text/plain": [
              "<Figure size 640x480 with 1 Axes>"
            ],
            "image/png": "[encoded data removed]"
          },
          "metadata": {}
        }
      ],
      "source": [
        "# Plot the distribution of text lengths\n",
        "data['text_length'] = data['text'].apply(len)\n",
        "sns.histplot(data['text_length'], bins=50, color='red', kde=True)\n",
        "plt.title('Distribution of Text Lengths', fontsize=16)\n",
        "plt.xlabel('Text Length', fontsize=14)\n",
        "plt.ylabel('Frequency', fontsize=14)\n",
        "plt.show()"
      ]
    },
    {
      "cell_type": "code",
      "execution_count": null,
      "id": "41d5c20e-7716-4401-a448-63ef31ae5315",
      "metadata": {
        "colab": {
          "base_uri": "https://localhost:8080/",
          "height": 554
        },
        "id": "41d5c20e-7716-4401-a448-63ef31ae5315",
        "outputId": "7c93d24b-8669-478b-e6f6-7135959f24b3"
      },
      "outputs": [
        {
          "output_type": "stream",
          "name": "stdout",
          "text": [
            "Occurrences of each category in the 'Race' column:\n",
            "Race\n",
            "0    101357\n",
            "1     34199\n",
            "Name: count, dtype: int64\n"
          ]
        },
        {
          "output_type": "display_data",
          "data": {
            "text/plain": [
              "<Figure size 640x480 with 1 Axes>"
            ],
            "image/png": "[encoded data removed]"
          },
          "metadata": {}
        }
      ],
      "source": [
        "# Count the occurrences of each category in the 'race' column\n",
        "race_counts = data['Race'].value_counts()\n",
        "# Display the counts\n",
        "print(\"Occurrences of each category in the 'Race' column:\")\n",
        "print(race_counts)\n",
        "\n",
        "# Plot the number of rows in the 'Race' column\n",
        "colors = ['green', 'red']\n",
        "race_counts.plot(kind='bar', color=colors)\n",
        "plt.title('Number of Rows in the Race Column')\n",
        "plt.xlabel('Category')\n",
        "plt.ylabel('Count')\n",
        "plt.show()"
      ]
    },
    {
      "cell_type": "code",
      "execution_count": null,
      "id": "46c010b5-943a-4650-87d2-310666e856af",
      "metadata": {
        "colab": {
          "base_uri": "https://localhost:8080/",
          "height": 554
        },
        "id": "46c010b5-943a-4650-87d2-310666e856af",
        "outputId": "014711f8-ed57-49d0-8dba-cae99ca4974e"
      },
      "outputs": [
        {
          "output_type": "stream",
          "name": "stdout",
          "text": [
            "Occurrences of each category in the 'Religion' column:\n",
            "Religion\n",
            "0    114895\n",
            "1     20661\n",
            "Name: count, dtype: int64\n"
          ]
        },
        {
          "output_type": "display_data",
          "data": {
            "text/plain": [
              "<Figure size 640x480 with 1 Axes>"
            ],
            "image/png": "[encoded data removed]"
          },
          "metadata": {}
        }
      ],
      "source": [
        "# Count the occurrences of each category in the 'Religion' column\n",
        "religion_counts = data['Religion'].value_counts()\n",
        "# Display the counts\n",
        "print(\"Occurrences of each category in the 'Religion' column:\")\n",
        "print(religion_counts)\n",
        "\n",
        "# Plot the number of rows in the 'Race' column\n",
        "colors = ['yellow', 'red']\n",
        "religion_counts.plot(kind='bar', color=colors)\n",
        "plt.title('Number of Rows in the Religion Column')\n",
        "plt.xlabel('Category')\n",
        "plt.ylabel('Count')\n",
        "plt.show()"
      ]
    },
    {
      "cell_type": "code",
      "execution_count": null,
      "id": "47e6a4df-329a-43ec-86b2-1b099964b63d",
      "metadata": {
        "colab": {
          "base_uri": "https://localhost:8080/",
          "height": 554
        },
        "id": "47e6a4df-329a-43ec-86b2-1b099964b63d",
        "outputId": "cc211247-fa68-47d4-ac5b-d1441a7c39ba"
      },
      "outputs": [
        {
          "output_type": "stream",
          "name": "stdout",
          "text": [
            "Occurrences of each category in the 'Sexuality' column:\n",
            "Sexuality\n",
            "0    113149\n",
            "1     22407\n",
            "Name: count, dtype: int64\n"
          ]
        },
        {
          "output_type": "display_data",
          "data": {
            "text/plain": [
              "<Figure size 640x480 with 1 Axes>"
            ],
            "image/png": "[encoded data removed]"
          },
          "metadata": {}
        }
      ],
      "source": [
        "# Count the occurrences of each category in the 'Sexuality' column\n",
        "sexuality_counts = data['Sexuality'].value_counts()\n",
        "# Display the counts\n",
        "print(\"Occurrences of each category in the 'Sexuality' column:\")\n",
        "print(sexuality_counts)\n",
        "\n",
        "# Plot the number of rows in the 'Race' column\n",
        "colors = ['blue', 'orange']\n",
        "sexuality_counts.plot(kind='bar', color=colors)\n",
        "plt.title('Number of Rows in the Sexuality Column')\n",
        "plt.xlabel('Category')\n",
        "plt.ylabel('Count')\n",
        "plt.show()"
      ]
    },
    {
      "cell_type": "code",
      "execution_count": null,
      "id": "9a526ba8-2fe2-4993-8133-015ea3ec3fa9",
      "metadata": {
        "colab": {
          "base_uri": "https://localhost:8080/",
          "height": 554
        },
        "id": "9a526ba8-2fe2-4993-8133-015ea3ec3fa9",
        "outputId": "ee593f16-4da7-4c44-c7d7-c7ea83eb6e74"
      },
      "outputs": [
        {
          "output_type": "stream",
          "name": "stdout",
          "text": [
            "Occurrences of each category in the 'age' column:\n",
            "age\n",
            "0    133820\n",
            "1      1736\n",
            "Name: count, dtype: int64\n"
          ]
        },
        {
          "output_type": "display_data",
          "data": {
            "text/plain": [
              "<Figure size 640x480 with 1 Axes>"
            ],
            "image/png": "[encoded data removed]"
          },
          "metadata": {}
        }
      ],
      "source": [
        "# Count the occurrences of each category in the 'age' column\n",
        "age_counts = data['age'].value_counts()\n",
        "# Display the counts\n",
        "print(\"Occurrences of each category in the 'age' column:\")\n",
        "print(age_counts)\n",
        "\n",
        "# Plot the number of rows in the 'Race' column\n",
        "colors = ['red', 'yellow']\n",
        "age_counts.plot(kind='bar', color=colors)\n",
        "plt.title('Number of Rows in the age Column')\n",
        "plt.xlabel('Category')\n",
        "plt.ylabel('Count')\n",
        "plt.show()"
      ]
    },
    {
      "cell_type": "code",
      "execution_count": null,
      "id": "cba66f7f-c3df-43a0-beb8-435b45ab1529",
      "metadata": {
        "id": "cba66f7f-c3df-43a0-beb8-435b45ab1529",
        "colab": {
          "base_uri": "https://localhost:8080/"
        },
        "outputId": "1bf0248e-acc1-4ad6-cc58-36d353c0ddff"
      },
      "outputs": [
        {
          "output_type": "stream",
          "name": "stdout",
          "text": [
            "Requirement already satisfied: scikit-learn==1.4.2 in /usr/local/lib/python3.10/dist-packages (1.4.2)\n",
            "Requirement already satisfied: numpy>=1.19.5 in /usr/local/lib/python3.10/dist-packages (from scikit-learn==1.4.2) (1.25.2)\n",
            "Requirement already satisfied: scipy>=1.6.0 in /usr/local/lib/python3.10/dist-packages (from scikit-learn==1.4.2) (1.11.4)\n",
            "Requirement already satisfied: joblib>=1.2.0 in /usr/local/lib/python3.10/dist-packages (from scikit-learn==1.4.2) (1.4.2)\n",
            "Requirement already satisfied: threadpoolctl>=2.0.0 in /usr/local/lib/python3.10/dist-packages (from scikit-learn==1.4.2) (3.5.0)\n",
            "Name: scikit-learn\n",
            "Version: 1.4.2\n",
            "Summary: A set of python modules for machine learning and data mining\n",
            "Home-page: https://scikit-learn.org\n",
            "Author: \n",
            "Author-email: \n",
            "License: new BSD\n",
            "Location: /usr/local/lib/python3.10/dist-packages\n",
            "Requires: joblib, numpy, scipy, threadpoolctl\n",
            "Required-by: bigframes, fastai, imbalanced-learn, librosa, mlxtend, qudida, sklearn-pandas, yellowbrick\n"
          ]
        }
      ],
      "source": [
        "!pip install --upgrade scikit-learn==1.4.2\n",
        "from sklearn.model_selection import train_test_split\n",
        "from sklearn.feature_extraction.text import TfidfVectorizer\n",
        "from sklearn.tree import DecisionTreeClassifier\n",
        "from sklearn.metrics import classification_report, accuracy_score, confusion_matrix\n",
        "# Search for a specific package\n",
        "!pip show scikit-learn"
      ]
    },
    {
      "cell_type": "code",
      "execution_count": null,
      "id": "1b629a6c-006e-49be-b5f1-7e2130098c96",
      "metadata": {
        "id": "1b629a6c-006e-49be-b5f1-7e2130098c96"
      },
      "outputs": [],
      "source": [
        "# Data Preprocessing\n",
        "# Combine all target columns into a single column\n",
        "data['label'] = data[['Race', 'Religion', 'Sexuality', 'age']].values.tolist()\n",
        "\n",
        "# Convert the list of labels into a multi-label binary format\n",
        "data['label'] = data['label'].apply(lambda x: [int(i) for i in x])\n",
        "\n",
        "# Split the data into features and labels\n",
        "X = data['text']\n",
        "y = np.array(data['label'].tolist())\n",
        "\n",
        "# Vectorize the text data\n",
        "vectorizer = TfidfVectorizer(max_features=5000)\n",
        "X_vec = vectorizer.fit_transform(X)\n",
        "\n",
        "# Split the data into training and testing sets\n",
        "X_train, X_test, y_train, y_test = train_test_split(X_vec, y, test_size=0.2, random_state=42)"
      ]
    },
    {
      "cell_type": "code",
      "execution_count": null,
      "id": "0c752c29-fd51-4d73-959c-4fdaa9802f99",
      "metadata": {
        "id": "0c752c29-fd51-4d73-959c-4fdaa9802f99"
      },
      "outputs": [],
      "source": [
        "# Build the Decision Tree model\n",
        "clf = DecisionTreeClassifier(random_state=42)\n",
        "clf.fit(X_train, y_train)\n",
        "\n",
        "# Predict the test data\n",
        "y_pred = clf.predict(X_test)"
      ]
    },
    {
      "cell_type": "code",
      "execution_count": null,
      "id": "c7aad7ce-fbc0-4a50-90c0-5de905a44c37",
      "metadata": {
        "colab": {
          "base_uri": "https://localhost:8080/"
        },
        "id": "c7aad7ce-fbc0-4a50-90c0-5de905a44c37",
        "outputId": "6b2861f9-c507-4b08-94c1-00da2a71fa7f"
      },
      "outputs": [
        {
          "output_type": "stream",
          "name": "stdout",
          "text": [
            "Accuracy: 0.796547654175273\n",
            "Classification Report:\n",
            "              precision    recall  f1-score   support\n",
            "\n",
            "        Race       0.87      0.78      0.82      6932\n",
            "    Religion       0.85      0.80      0.82      4123\n",
            "   Sexuality       0.84      0.67      0.75      4418\n",
            "         age       0.30      0.15      0.20       343\n",
            "\n",
            "   micro avg       0.85      0.74      0.79     15816\n",
            "   macro avg       0.71      0.60      0.65     15816\n",
            "weighted avg       0.84      0.74      0.79     15816\n",
            " samples avg       0.43      0.42      0.42     15816\n",
            "\n"
          ]
        }
      ],
      "source": [
        "# Evaluate the model\n",
        "print(\"Accuracy:\", accuracy_score(y_test, y_pred))\n",
        "print(\"Classification Report:\")\n",
        "print(classification_report(y_test, y_pred, target_names=['Race', 'Religion', 'Sexuality', 'age'],zero_division=0))"
      ]
    },
    {
      "cell_type": "code",
      "execution_count": null,
      "id": "57da47c9-6f97-4d3c-baf3-37565f11487f",
      "metadata": {
        "colab": {
          "base_uri": "https://localhost:8080/",
          "height": 564
        },
        "id": "57da47c9-6f97-4d3c-baf3-37565f11487f",
        "outputId": "82e27375-71f0-472b-db40-e838859b57c5"
      },
      "outputs": [
        {
          "output_type": "display_data",
          "data": {
            "text/plain": [
              "<Figure size 1000x600 with 2 Axes>"
            ],
            "image/png": "[encoded data removed]"
          },
          "metadata": {}
        }
      ],
      "source": [
        "# Confusion Matrix\n",
        "conf_mat = confusion_matrix(y_test.argmax(axis=1), y_pred.argmax(axis=1))\n",
        "plt.figure(figsize=(10, 6))\n",
        "sns.heatmap(conf_mat, annot=True, fmt='d', cmap='Purples', xticklabels=['Race', 'Religion', 'Sexuality', 'Age'], yticklabels=['Race', 'Religion', 'Sexuality', 'Age'])\n",
        "plt.title('Confusion Matrix')\n",
        "plt.xlabel('Predicted')\n",
        "plt.ylabel('Actual')\n",
        "plt.show()"
      ]
    },
    {
      "cell_type": "code",
      "execution_count": null,
      "id": "474fac9a-d64d-4be3-b551-8ce91a09742f",
      "metadata": {
        "colab": {
          "base_uri": "https://localhost:8080/"
        },
        "id": "474fac9a-d64d-4be3-b551-8ce91a09742f",
        "outputId": "b2066ab7-1b84-487c-b728-38e7afe82a21"
      },
      "outputs": [
        {
          "name": "stdout",
          "output_type": "stream",
          "text": [
            "Enter text to classify (or 'exit' to quit): exit\n"
          ]
        }
      ],
      "source": [
        "# Function to classify new text\n",
        "def classify_text(model, vectorizer, text):\n",
        "    # Vectorize the input text\n",
        "    text_vec = vectorizer.transform([text])\n",
        "    # Predict the class\n",
        "    prediction = model.predict(text_vec)\n",
        "    # Map the prediction to labels\n",
        "    labels = ['Race', 'Religion', 'Sexuality', 'Age']\n",
        "    result = {labels[i]: prediction[0][i] for i in range(len(labels))}\n",
        "    return result\n",
        "\n",
        "# Interactive prompt for user input\n",
        "while True:\n",
        "    new_text = input(\"Enter text to classify (or 'exit' to quit): \")\n",
        "    if new_text.lower() == 'exit':\n",
        "        break\n",
        "    classification_result = classify_text(clf, vectorizer, new_text)\n",
        "    print(\"Classification Result:\", classification_result)"
      ]
    },
    {
      "cell_type": "code",
      "execution_count": null,
      "id": "04ca8beb-9eec-43a4-a984-6edceabef32c",
      "metadata": {
        "colab": {
          "base_uri": "https://localhost:8080/"
        },
        "id": "04ca8beb-9eec-43a4-a984-6edceabef32c",
        "outputId": "a5808285-7f2c-4536-df59-4e16f97420a2"
      },
      "outputs": [
        {
          "output_type": "stream",
          "name": "stdout",
          "text": [
            "Drive already mounted at /content/drive; to attempt to forcibly remount, call drive.mount(\"/content/drive\", force_remount=True).\n"
          ]
        }
      ],
      "source": [
        "from google.colab import drive\n",
        "import pickle\n",
        "\n",
        "# Mount Google Drive\n",
        "drive.mount('/content/drive')\n",
        "\n",
        "# Save the model to a file\n",
        "#joblib.dump(clf, '/content/drive/My Drive/Colab Notebooks/NLP/New/Very new/Decision Tree Hate Spech Classification.pkl')\n",
        "with open('/content/drive/My Drive/Colab Notebooks/Decision Tree Hate Spech Classification.pkl', 'wb') as f:\n",
        "    pickle.dump(clf, f)\n",
        "\n",
        "with open('/content/drive/My Drive/Colab Notebooks/Decision Tree_vectorizer.pkl', 'wb') as f:\n",
        "    pickle.dump((clf, vectorizer), f)"
      ]
    }
  ],
  "metadata": {
    "kernelspec": {
      "display_name": "Python 3",
      "name": "python3"
    },
    "language_info": {
      "codemirror_mode": {
        "name": "ipython",
        "version": 3
      },
      "file_extension": ".py",
      "mimetype": "text/x-python",
      "name": "python",
      "nbconvert_exporter": "python",
      "pygments_lexer": "ipython3",
      "version": "3.11.7"
    },
    "colab": {
      "provenance": [],
      "gpuType": "T4"
    },
    "accelerator": "GPU"
  },
  "nbformat": 4,
  "nbformat_minor": 5
}